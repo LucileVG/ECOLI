{
 "cells": [
  {
   "cell_type": "markdown",
   "metadata": {},
   "source": [
    "# Explaining DCA\n",
    "\n",
    "## Libraries imports"
   ]
  },
  {
   "cell_type": "code",
   "execution_count": 9,
   "metadata": {},
   "outputs": [],
   "source": [
    "from Bio.Seq import Seq\n",
    "from Bio.Alphabet import generic_dna\n",
    "from Bio.SubsMat.MatrixInfo import grant"
   ]
  },
  {
   "cell_type": "markdown",
   "metadata": {},
   "source": [
    "## Data"
   ]
  },
  {
   "cell_type": "code",
   "execution_count": null,
   "metadata": {},
   "outputs": [],
   "source": []
  },
  {
   "cell_type": "markdown",
   "metadata": {},
   "source": [
    "## Gene class"
   ]
  },
  {
   "cell_type": "code",
   "execution_count": null,
   "metadata": {},
   "outputs": [],
   "source": [
    "class Gene:\n",
    "    \n",
    "    def __init__(self,name,position,strand,sequence,expression,codon_adaptation,essentiality):\n",
    "        self.name = name\n",
    "        self.position = position # Position of \"A\" of start codon\n",
    "        self.strand = strand\n",
    "        self.sequence = sequence\n",
    "        self.expression = expression\n",
    "        self.codon_adaptation = codon_adaptation\n",
    "        self.essentiality = essentiality\n",
    "    \n",
    "    def extract_triplet(self,locus):\n",
    "        if(locus>0 and locus<len(self.sequence)-1):\n",
    "            if(self.strand==\"-\"):\n",
    "                return self.sequence[locus-1:locus+2].reverse_complement() # A VERIFIER\n",
    "            else:\n",
    "                return self.sequence[locus-1:locus+2]\n",
    "        return Seq(\"\", generic_dna)"
   ]
  },
  {
   "cell_type": "markdown",
   "metadata": {},
   "source": [
    "## Mutation class"
   ]
  },
  {
   "cell_type": "code",
   "execution_count": null,
   "metadata": {},
   "outputs": [],
   "source": [
    "class Mutation:\n",
    "    self.mutation_type = {(\"A\",\"T\"):\"Transversion\",(\"A\",\"C\"):\"Transversion\",(\"A\",\"G\"):\"Transition\",\n",
    "                          (\"T\",\"A\"):\"Transversion\",(\"T\",\"G\"):\"Transversion\",(\"T\",\"C\"):\"Transition\",\n",
    "                          (\"G\",\"T\"):\"Transversion\",(\"G\",\"C\"):\"Transversion\",(\"G\",\"A\"):\"Transition\",\n",
    "                          (\"C\",\"A\"):\"Transversion\",(\"C\",\"G\"):\"Transversion\",(\"C\",\"T\"):\"Transition\"}\n",
    "    \n",
    "    def __init__(self,gene,locus,mutated_base,DCA):\n",
    "        self.gene = gene\n",
    "        self.locus = locus\n",
    "        self.mutated_base = mutated_base\n",
    "        self.DCA = DCA\n",
    "    \n",
    "    def get_triplet(self):\n",
    "        return self.gene.extract_triplet(self.locus)\n",
    "    \n",
    "    def get_codon_position(self):\n",
    "        return self.locus-self.locus%3\n",
    "    \n",
    "    def get_unmutated_codon(self):\n",
    "        position = self.get_codon_position()\n",
    "        return self.gene.sequence[position:position+3]\n",
    "    \n",
    "    def get_mutated_codon(self):\n",
    "        base_position = self.locus%3\n",
    "        unmutated_codon = str(self.gene.sequence[position:position+3])\n",
    "        if(base_position==0):\n",
    "            return Seq(self.mutated_base + unmutated_codon[1:], generic_dna)\n",
    "        if(base_position==1):\n",
    "            return Seq(unmutated_codon[0] + self.mutated_base + unmutated_codon[2], generic_dna)\n",
    "        if(base_position==2):\n",
    "            return Seq(unmutated_codon[:2] + self.mutated_base, generic_dna)\n",
    "    \n",
    "    def get_unmutated_AA(self):\n",
    "        return str(self.get_unmutated_codon().translate())\n",
    "    \n",
    "    def get_mutated_AA(self):\n",
    "        return str(self.get_mutated_codon().translate())\n",
    "    \n",
    "    def is_synonymous(self):\n",
    "        return str(self.get_unmutated_AA())==str(self.get_mutated_AA())\n",
    "    \n",
    "    def get_grantham_distance(self):\n",
    "        return grant[(self.get_unmutated_AA(),self.get_mutated_AA())]\n",
    "    \n",
    "    def get_genome_position(self):\n",
    "        sense = 1\n",
    "        if(self.gene.strand==\"-\"):\n",
    "            sense = -1\n",
    "        return self.gene.position+sense*locus\n",
    "    \n",
    "    def get_previous_base(self):\n",
    "        return self.get_triplet()[0]\n",
    "    \n",
    "    def get_next_base(self):\n",
    "        return self.get_triplet()[2]\n",
    "    \n",
    "    def get_mutation_type(self):\n",
    "        return self.mutation_type[(self.gene.sequence[self.locus],self.mutated_base)]\n",
    "    \n",
    "    "
   ]
  },
  {
   "cell_type": "markdown",
   "metadata": {},
   "source": [
    "## Questions\n",
    "\n",
    "- Est-ce que ça a du sens d'essayer d'expliquer le DCA par des mutations nucléotidiques ?\n"
   ]
  },
  {
   "cell_type": "code",
   "execution_count": null,
   "metadata": {},
   "outputs": [],
   "source": []
  }
 ],
 "metadata": {
  "kernelspec": {
   "display_name": "Python 3",
   "language": "python",
   "name": "python3"
  },
  "language_info": {
   "codemirror_mode": {
    "name": "ipython",
    "version": 3
   },
   "file_extension": ".py",
   "mimetype": "text/x-python",
   "name": "python",
   "nbconvert_exporter": "python",
   "pygments_lexer": "ipython3",
   "version": "3.7.4"
  }
 },
 "nbformat": 4,
 "nbformat_minor": 4
}
