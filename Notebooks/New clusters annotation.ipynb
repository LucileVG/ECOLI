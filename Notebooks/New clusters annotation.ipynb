{
 "cells": [
  {
   "cell_type": "markdown",
   "metadata": {},
   "source": [
    "# New clusters annotation\n",
    "\n",
    "## Libraries imports"
   ]
  },
  {
   "cell_type": "code",
   "execution_count": 1,
   "metadata": {},
   "outputs": [],
   "source": [
    "import pandas as pd\n",
    "import numpy as np\n",
    "\n",
    "from Bio import SeqIO\n",
    "from Bio.Seq import Seq\n",
    "import glob"
   ]
  },
  {
   "cell_type": "markdown",
   "metadata": {},
   "source": [
    "## Data"
   ]
  },
  {
   "cell_type": "code",
   "execution_count": 2,
   "metadata": {},
   "outputs": [],
   "source": [
    "DATA_FOLDER = \"../Data/Sequences/Clusters reference sequences/\"\n",
    "OUTPUT_FOLDER = \"../Data/New clusters annotations/\"\n",
    "OUTPUT_K12_GENES = OUTPUT_FOLDER+\"K12/\"\n",
    "OUTPUT_B6_FOLDER = OUTPUT_FOLDER+\"output_files_b6/\"\n",
    "\n",
    "K12_FILE = DATA_FOLDER+\"K12.faa\" # K12 sequences (fasta file)"
   ]
  },
  {
   "cell_type": "markdown",
   "metadata": {},
   "source": [
    "## Creating queries for vsearch searches"
   ]
  },
  {
   "cell_type": "code",
   "execution_count": 3,
   "metadata": {},
   "outputs": [],
   "source": [
    "queries = SeqIO.to_dict(SeqIO.parse(K12_FILE, \"fasta\"))\n",
    "for seq in queries.values():\n",
    "    SeqIO.write([seq],OUTPUT_K12_GENES+(seq.id).split(\".1_\")[1]+\".fasta\",\"fasta\")"
   ]
  },
  {
   "cell_type": "markdown",
   "metadata": {},
   "source": [
    "## Parsing vsearch outputs"
   ]
  },
  {
   "cell_type": "code",
   "execution_count": 5,
   "metadata": {},
   "outputs": [],
   "source": [
    "colnames = [\"query sequence id\",\"subject sequence id\",\"percentage of identical matches\",\"alignment length\",\"number of mismatches\",\"number of gap openings\",\"start of alignment in query\",\" end of alignment in query\",\"start of alignment in subject\",\"end of alignment in subject\",\"expect value\",\"bit score\"]\n",
    "annotations_list = []\n",
    "\n",
    "for file in glob.glob(OUTPUT_B6_FOLDER+\"*\"):\n",
    "    gene = (file.split(\"/\")[-1])[:-3]\n",
    "    df = pd.read_csv(file,sep=\"\\t\",names=colnames,header=None)\n",
    "    gene_length = len(queries['lcl|CU651637.1_'+gene].seq)\n",
    "    subject_length = df[\"end of alignment in subject\"]<1.1*gene_length\n",
    "    is_full_sequence = df[\"alignment length\"]>(0.8*gene_length)\n",
    "    sequence_id = df[\"subject sequence id\"]\n",
    "    identical_matches = df[\"percentage of identical matches\"]\n",
    "    algnt_length = df[\"alignment length\"]\n",
    "    description = (queries['lcl|CU651637.1_'+gene].description).strip(\"lcl|CU651637.1_\")\n",
    "    gene_length = len(str(queries['lcl|CU651637.1_'+gene].seq))\n",
    "    gene_name = \"\"\n",
    "    if(\"[gene=\" in description):\n",
    "        gene_name = description.split(\"[gene=\")[1].split(\"]\")[0]\n",
    "    annotations = {\"Gene id\":[],\"Gene name\":[],\"Description\":[],\"Gene length\":[],\"Sequence id\":[], \"Identical matches\":[], \"Alignment length\":[], \"Full sequence\":[]}\n",
    "    for i in range(len(df)):\n",
    "        if(subject_length[i]):\n",
    "            annotations[\"Gene id\"].append(gene)\n",
    "            annotations[\"Gene name\"].append(gene_name)\n",
    "            annotations[\"Description\"].append(description)\n",
    "            annotations[\"Gene length\"].append(gene_length)\n",
    "            annotations[\"Sequence id\"].append(sequence_id[i])\n",
    "            annotations[\"Identical matches\"].append(identical_matches[i])\n",
    "            annotations[\"Alignment length\"].append(algnt_length[i])\n",
    "            annotations[\"Full sequence\"].append(is_full_sequence[i])\n",
    "    annotations_list.append(pd.DataFrame.from_dict(annotations))\n",
    "\n",
    "result = pd.concat(annotations_list,ignore_index=True)\n",
    "result[\"Full sequence\"] = result[\"Full sequence\"].astype(\"bool\")\n",
    "full_sequences = result[result[\"Full sequence\"]]\n",
    "duplicates_FS = full_sequences.duplicated(subset=[\"Sequence id\"])\n",
    "fragments = result[~result[\"Full sequence\"]]\n",
    "duplicates_Fr = fragments.duplicated(subset=[\"Sequence id\"])\n",
    "for i in fragments.index:\n",
    "    seqid = fragments[\"Sequence id\"][i]\n",
    "    if(seqid in full_sequences[\"Sequence id\"]):\n",
    "        duplicates_Fr[i] = True\n",
    "fragments[~duplicates_Fr].to_csv(OUTPUT_FOLDER+\"fragments_no_duplicates.csv\", sep=\";\", index=False)\n",
    "full_sequences[~duplicates_FS].to_csv(OUTPUT_FOLDER+\"full_sequences_no_duplicates.csv\", sep=\";\", index=False)"
   ]
  },
  {
   "cell_type": "code",
   "execution_count": null,
   "metadata": {},
   "outputs": [],
   "source": []
  }
 ],
 "metadata": {
  "kernelspec": {
   "display_name": "Python 3",
   "language": "python",
   "name": "python3"
  },
  "language_info": {
   "codemirror_mode": {
    "name": "ipython",
    "version": 3
   },
   "file_extension": ".py",
   "mimetype": "text/x-python",
   "name": "python",
   "nbconvert_exporter": "python",
   "pygments_lexer": "ipython3",
   "version": "3.7.4"
  }
 },
 "nbformat": 4,
 "nbformat_minor": 4
}
