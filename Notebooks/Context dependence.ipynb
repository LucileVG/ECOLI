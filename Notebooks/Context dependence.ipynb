{
 "cells": [
  {
   "cell_type": "markdown",
   "metadata": {},
   "source": [
    "# Context dependence\n",
    "\n",
    "## Libraries imports"
   ]
  },
  {
   "cell_type": "code",
   "execution_count": 17,
   "metadata": {},
   "outputs": [],
   "source": [
    "import pandas as pd\n",
    "import numpy as np\n",
    "\n",
    "import matplotlib.pyplot as plt\n",
    "\n",
    "from Bio import SeqIO\n",
    "from Bio.Seq import Seq\n",
    "from Bio import AlignIO\n",
    "from scipy.stats import entropy"
   ]
  },
  {
   "cell_type": "markdown",
   "metadata": {},
   "source": [
    "## Data"
   ]
  },
  {
   "cell_type": "code",
   "execution_count": 5,
   "metadata": {},
   "outputs": [],
   "source": [
    "SEQUENCES_FOLDER = \"../Data/Protein sequences/\"\n",
    "DCA_FOLDER = \"../Data/DCA models/\""
   ]
  },
  {
   "cell_type": "markdown",
   "metadata": {},
   "source": [
    "## MSA class"
   ]
  },
  {
   "cell_type": "code",
   "execution_count": 24,
   "metadata": {},
   "outputs": [],
   "source": [
    "class MSA:\n",
    "    alphabet = ['A','C','D','E','F','G','H','I','K','L','M','N','P','Q','R','S','T','V','W','Y','-']\n",
    "\n",
    "    def __init__(self, fasta_file, name=\"\"):\n",
    "        self.name = name\n",
    "        self.MSA = self.fasta2matrix(fasta_file)\n",
    "        self.CI_entropy = None\n",
    "        \n",
    "    def letter2number(self,letter):\n",
    "        if(letter in self.alphabet):\n",
    "            return self.alphabet.index(letter)\n",
    "        return len(self.alphabet)-1\n",
    "    \n",
    "    def fasta2matrix(self,fasta_file):\n",
    "        sequences_list = []\n",
    "        for seq in SeqIO.parse(fasta_file, \"fasta\"):\n",
    "            sequence_string = seq.seq\n",
    "            sequence_array = []\n",
    "            for letter in sequence_string:\n",
    "                sequence_array.append(self.letter2number(letter))\n",
    "            sequences_list.append(sequence_array)\n",
    "        return np.array(sequences_list)\n",
    "\n",
    "    def compute_CI_entropy(self):\n",
    "        entropies = []\n",
    "        for i in range(self.MSA.shape[1]):\n",
    "            counts = np.bincount(self.MSA[:,i],minlength=21)\n",
    "            freq_21 = counts/np.sum(counts)\n",
    "            freq_20 = freq_21[:-1]\n",
    "            entropies.append(entropy(freq_20/np.linalg.norm(freq_20), base=2))\n",
    "        return entropies"
   ]
  },
  {
   "cell_type": "markdown",
   "metadata": {},
   "source": [
    "## DCA class"
   ]
  },
  {
   "cell_type": "code",
   "execution_count": null,
   "metadata": {},
   "outputs": [],
   "source": [
    "class DCA:\n",
    "    alphabet = ['A','C','D','E','F','G','H','I','K','L','M','N','P','Q','R','S','T','V','W','Y','-']\n",
    "    \n",
    "    def __init__(self, J, h, reference, protein_name=\"\"):\n",
    "        self.name = protein_name\n",
    "        self.J = J # J'aurai sans doute à écrire une fonction pour lire le fichier où se trouve J\n",
    "        self.h = h # J'aurai sans doute à écrire une fonction pour lire le fichier où se trouve h\n",
    "        self.reference = self.sequence2array(reference)\n",
    "        self.H_ref = self.H(reference)\n",
    "        self.CD_entropy = None\n",
    "    \n",
    "    def letter2number(self,letter):\n",
    "        if(letter in self.alphabet):\n",
    "            return self.alphabet.index(letter)\n",
    "        return len(self.alphabet)-1\n",
    "    \n",
    "    def sequence2array(self,sequence):\n",
    "        sequence_array = []\n",
    "        for letter in sequence.seq:\n",
    "            sequence_array.append(self.letter2number(letter))\n",
    "        return np.array(sequence_array)\n",
    "    \n",
    "    def H(self,sequence):\n",
    "        if(type(sequence)==str):\n",
    "            sequence_array = self.sequence2array(sequence)\n",
    "        else:\n",
    "            sequence_array = sequence\n",
    "        n = len(sequence_array)\n",
    "        v = np.zeros((n*20,1))\n",
    "        for i in range(n):\n",
    "            if(sequence_array[i]<20):\n",
    "                v[int(20*(i-1)+sequence_array[i])]=1\n",
    "        e = -0.5*np.matmul(v.transpose(),np.matmul(self.J,v))-np.matmul(v.transpose(),self.h) #VERIFIER le < ou != auprès de Giancarlo, facteur 0.5\n",
    "        return float(np.exp(e))#VERIFIER SI C'EST BIEN TOUJOURS l'EXPONENTIELLE QUE L'ON VEUT\n",
    "    \n",
    "    def ∆H_sequence(self,sequence):\n",
    "        return self.H(sequence)-self.H_ref\n",
    "    \n",
    "    def mutant(self,loci,residues):\n",
    "        sequence = self.reference.copy()\n",
    "        for i in range(len(loci)):\n",
    "            sequence[loci[i]] = residues[i]\n",
    "        return sequence\n",
    "    \n",
    "    def ∆H_mutant(self,loci,residues):\n",
    "        sequence = self.single_mutant(loci,residues)\n",
    "        return self.H(sequence)-self.H_ref\n",
    "            \n",
    "    def compute_CD_entropy(self):\n",
    "        entropies = []\n",
    "        for locus in range(len(self.reference)):\n",
    "            proba_21 = []\n",
    "            for residue in [i for i in range(21) if i!=self.reference[locus]]:\n",
    "                proba_21.append(self.H(self.single_mutant(locus,residue)))\n",
    "            proba_21 = proba_21/np.sum(proba_21)\n",
    "            proba_20 = proba_20[:-1]\n",
    "            entropies.append(entropy(proba_20/np.linalg.norm(proba_20), base=2))\n",
    "        return entropies"
   ]
  },
  {
   "cell_type": "code",
   "execution_count": null,
   "metadata": {},
   "outputs": [],
   "source": []
  },
  {
   "cell_type": "markdown",
   "metadata": {},
   "source": [
    "## Questions à poser\n",
    "\n",
    "- La bonne formule du DCA est-elle bien avec le i<j sur la somme (ou somme entière sur i!=j divisée par 2) ?\n",
    "- Comment génère-t-on les single mutants, quelle loi de proba pour les mutations ? Equiprobables ? Atteignables par un SNP ?\n"
   ]
  },
  {
   "cell_type": "code",
   "execution_count": null,
   "metadata": {},
   "outputs": [],
   "source": []
  }
 ],
 "metadata": {
  "kernelspec": {
   "display_name": "Python 3",
   "language": "python",
   "name": "python3"
  },
  "language_info": {
   "codemirror_mode": {
    "name": "ipython",
    "version": 3
   },
   "file_extension": ".py",
   "mimetype": "text/x-python",
   "name": "python",
   "nbconvert_exporter": "python",
   "pygments_lexer": "ipython3",
   "version": "3.7.4"
  }
 },
 "nbformat": 4,
 "nbformat_minor": 4
}
